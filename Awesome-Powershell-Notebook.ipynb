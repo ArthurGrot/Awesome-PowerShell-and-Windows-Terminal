{
 "cells": [
  {
   "attachments": {},
   "cell_type": "markdown",
   "metadata": {},
   "source": [
    "# Awesome Powershell and Windows Terminal"
   ]
  },
  {
   "attachments": {},
   "cell_type": "markdown",
   "metadata": {},
   "source": [
    "## Powershell"
   ]
  },
  {
   "attachments": {},
   "cell_type": "markdown",
   "metadata": {},
   "source": [
    "Install oh my posh"
   ]
  },
  {
   "cell_type": "code",
   "execution_count": null,
   "metadata": {
    "dotnet_interactive": {
     "language": "pwsh"
    },
    "polyglot_notebook": {
     "kernelName": "pwsh"
    }
   },
   "outputs": [],
   "source": [
    "winget install JanDeDobbeleer.OhMyPosh -s winget"
   ]
  },
  {
   "attachments": {},
   "cell_type": "markdown",
   "metadata": {},
   "source": [
    "Create PWSH profile file"
   ]
  },
  {
   "cell_type": "code",
   "execution_count": null,
   "metadata": {
    "dotnet_interactive": {
     "language": "pwsh"
    },
    "polyglot_notebook": {
     "kernelName": "pwsh"
    }
   },
   "outputs": [],
   "source": [
    "New-Item -Path $PROFILE -Type File -Force"
   ]
  },
  {
   "attachments": {},
   "cell_type": "markdown",
   "metadata": {},
   "source": [
    "Add additional modules"
   ]
  },
  {
   "cell_type": "code",
   "execution_count": null,
   "metadata": {
    "dotnet_interactive": {
     "language": "pwsh"
    },
    "polyglot_notebook": {
     "kernelName": "pwsh"
    }
   },
   "outputs": [],
   "source": [
    "Install-Module -Name Terminal-Icons -Repository PSGallery\n",
    "Install-Module -Name CompletionPredictor -Repository PSGallery"
   ]
  },
  {
   "attachments": {},
   "cell_type": "markdown",
   "metadata": {},
   "source": [
    "Add this to profile"
   ]
  },
  {
   "cell_type": "code",
   "execution_count": null,
   "metadata": {
    "dotnet_interactive": {
     "language": "value"
    },
    "polyglot_notebook": {
     "kernelName": "value"
    }
   },
   "outputs": [],
   "source": [
    "oh-my-posh init pwsh --config \"C:\\Users\\arthu\\AppData\\Local\\Programs\\oh-my-posh\\themes\\montys.omp.json\" | Invoke-Expression\n",
    "Import-Module -Name Terminal-Icons\n",
    "Import-Module -Name CompletionPredictor"
   ]
  },
  {
   "attachments": {},
   "cell_type": "markdown",
   "metadata": {},
   "source": [
    "Reload profile"
   ]
  },
  {
   "cell_type": "code",
   "execution_count": null,
   "metadata": {
    "dotnet_interactive": {
     "language": "pwsh"
    },
    "polyglot_notebook": {
     "kernelName": "pwsh"
    }
   },
   "outputs": [],
   "source": [
    ". $PROFILE"
   ]
  },
  {
   "attachments": {},
   "cell_type": "markdown",
   "metadata": {},
   "source": [
    "Additional PSReadLine settings:"
   ]
  },
  {
   "cell_type": "code",
   "execution_count": null,
   "metadata": {
    "dotnet_interactive": {
     "language": "pwsh"
    },
    "polyglot_notebook": {
     "kernelName": "pwsh"
    }
   },
   "outputs": [],
   "source": [
    "Set-PSReadLineOption -PredictionSource HistoryAndPlugin\n",
    "Set-PSReadLineOption -PredictionViewStyle ListView"
   ]
  },
  {
   "attachments": {},
   "cell_type": "markdown",
   "metadata": {},
   "source": [
    "Press `F2` to switch Inline and ListView"
   ]
  },
  {
   "attachments": {},
   "cell_type": "markdown",
   "metadata": {},
   "source": [
    "## Windows Terminal"
   ]
  },
  {
   "attachments": {},
   "cell_type": "markdown",
   "metadata": {},
   "source": [
    "For showing icons corectly in terminal install CascadiaMono"
   ]
  },
  {
   "cell_type": "code",
   "execution_count": null,
   "metadata": {
    "dotnet_interactive": {
     "language": "pwsh"
    },
    "polyglot_notebook": {
     "kernelName": "pwsh"
    }
   },
   "outputs": [],
   "source": [
    "oh-my-posh font install"
   ]
  },
  {
   "attachments": {},
   "cell_type": "markdown",
   "metadata": {},
   "source": [
    "- Select CascadiaMono for NerdFont fonts in Windows Terminal.\n",
    "- Profile presets:\n",
    "  ```json\n",
    "    {\n",
    "        \"commandline\": \"\\\"C:\\\\Program Files\\\\PowerShell\\\\7\\\\pwsh.exe\\\"\",\n",
    "        \"guid\": \"{61c54bbd-c2c6-5271-96e7-009a87ff44bf}\",\n",
    "        \"hidden\": false,\n",
    "        \"icon\": \"ms-appx:///ProfileIcons/pwsh.png\",\n",
    "        \"name\": \"Windows PowerShell\"\n",
    "    },\n",
    "    {\n",
    "        \"commandline\": \"\\\"C:\\\\Program Files\\\\PowerShell\\\\7\\\\pwsh.exe\\\"\",\n",
    "        \"elevate\": true,\n",
    "        \"guid\": \"{12814027-9bef-4fe2-a7d1-9380cd876976}\",\n",
    "        \"hidden\": false,\n",
    "        \"icon\": \"ms-appx:///ProfileIcons/pwsh.png\",\n",
    "        \"name\": \"Windows PowerShell (Admin)\"\n",
    "    },\n",
    "  ```"
   ]
  }
 ],
 "metadata": {
  "kernelspec": {
   "display_name": ".NET (C#)",
   "language": "C#",
   "name": ".net-csharp"
  },
  "language_info": {
   "name": "polyglot-notebook"
  },
  "orig_nbformat": 4,
  "polyglot_notebook": {
   "kernelInfo": {
    "defaultKernelName": "csharp",
    "items": [
     {
      "aliases": [],
      "name": "csharp"
     }
    ]
   }
  }
 },
 "nbformat": 4,
 "nbformat_minor": 2
}
